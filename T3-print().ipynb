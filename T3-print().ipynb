{
 "cells": [
  {
   "cell_type": "code",
   "execution_count": 1,
   "id": "c2fd3824-bced-49fe-8f2b-c45494db52cc",
   "metadata": {},
   "outputs": [
    {
     "data": {
      "text/plain": [
       "20"
      ]
     },
     "execution_count": 1,
     "metadata": {},
     "output_type": "execute_result"
    }
   ],
   "source": [
    "a=10\n",
    "b=20\n",
    "a\n",
    "b"
   ]
  },
  {
   "cell_type": "code",
   "execution_count": 3,
   "id": "4f6c76d5-5748-4713-9d09-46fc69872432",
   "metadata": {},
   "outputs": [
    {
     "name": "stdout",
     "output_type": "stream",
     "text": [
      "10\n",
      "20\n"
     ]
    }
   ],
   "source": [
    "a=10\n",
    "b=20\n",
    "print(a)\n",
    "print(b)"
   ]
  },
  {
   "cell_type": "code",
   "execution_count": 5,
   "id": "92dff344-4110-4bd5-a173-481dc67e5c71",
   "metadata": {},
   "outputs": [
    {
     "name": "stdout",
     "output_type": "stream",
     "text": [
      "10\n",
      "10 20\n",
      "python\n",
      "10 20 python\n"
     ]
    }
   ],
   "source": [
    "print(10)\n",
    "print(10,20)\n",
    "print('python')\n",
    "print(10,20,'python')\n"
   ]
  },
  {
   "cell_type": "code",
   "execution_count": 11,
   "id": "810ea04b-b6a7-4a75-88eb-6ebba0785f90",
   "metadata": {},
   "outputs": [
    {
     "name": "stdout",
     "output_type": "stream",
     "text": [
      "50\n"
     ]
    }
   ],
   "source": [
    "num1=20\n",
    "num2=30\n",
    "add=num1+num2\n",
    "print(add)"
   ]
  },
  {
   "cell_type": "markdown",
   "id": "4780b3d6-3ce3-469e-b965-cb45da58ab72",
   "metadata": {},
   "source": [
    "# print result with string"
   ]
  },
  {
   "cell_type": "code",
   "execution_count": 14,
   "id": "251719f7-4aa3-4754-be09-a32e9c20bc17",
   "metadata": {},
   "outputs": [
    {
     "name": "stdout",
     "output_type": "stream",
     "text": [
      "The addition of 20 and 30 is = 50\n"
     ]
    }
   ],
   "source": [
    "num1=20\n",
    "num2=30\n",
    "add=num1+num2\n",
    "print('The addition of',num1,'and',num2,'is =',add)"
   ]
  },
  {
   "cell_type": "code",
   "execution_count": 25,
   "id": "b429dfac-0135-4c0b-862b-637eec8977fd",
   "metadata": {},
   "outputs": [
    {
     "name": "stdout",
     "output_type": "stream",
     "text": [
      "My name is Anirudh and i am 20 years old from hyd\n"
     ]
    }
   ],
   "source": [
    "name='Anirudh'\n",
    "age=20\n",
    "city='hyd'\n",
    "print('My name is',name,'and i am',age,'years old from', city)"
   ]
  },
  {
   "cell_type": "markdown",
   "id": "5732e7ac-ca11-48df-adc9-c3b644433363",
   "metadata": {},
   "source": [
    "# Print format method"
   ]
  },
  {
   "cell_type": "code",
   "execution_count": 19,
   "id": "77c30548-b454-49eb-8cbd-0d21e10aff93",
   "metadata": {},
   "outputs": [
    {
     "name": "stdout",
     "output_type": "stream",
     "text": [
      "The addition of 30 and 10 is= 40\n"
     ]
    }
   ],
   "source": [
    "num1=30\n",
    "num2=10\n",
    "add=num1+num2\n",
    "print('The addition of {} and {} is= {}'.format(num1,num2,add))"
   ]
  },
  {
   "cell_type": "code",
   "execution_count": 23,
   "id": "2bf90aef-c6d0-4231-9e71-b2a853015529",
   "metadata": {},
   "outputs": [
    {
     "name": "stdout",
     "output_type": "stream",
     "text": [
      "My name is Anirudh and i am 20 years old from hyd city\n"
     ]
    }
   ],
   "source": [
    "name='Anirudh'\n",
    "age=20\n",
    "city='hyd'\n",
    "print('My name is {} and i am {} years old from {} city'.format(name,age,city))"
   ]
  },
  {
   "cell_type": "code",
   "execution_count": 41,
   "id": "ad99a21d-644e-4108-b62a-d5bf97262d14",
   "metadata": {},
   "outputs": [
    {
     "name": "stdout",
     "output_type": "stream",
     "text": [
      "The average of 111, 22, and 333 is = 155.33333333333334 or 155.33\n"
     ]
    }
   ],
   "source": [
    "num1=111\n",
    "num2=22\n",
    "num3=333\n",
    "avg=(num1+num2+num3)/3 # or we can use avg=round((num1+num2+num3)/3,2)\n",
    "avg1=round((num1+num2+num3)/3,2)\n",
    "\n",
    "print('The average of {}, {}, and {} is = {} or {}'.format(num1,num2,num3,avg,avg1))"
   ]
  },
  {
   "cell_type": "code",
   "execution_count": 48,
   "id": "015dc2f0-c712-4861-9ba7-dc76b03d7af2",
   "metadata": {},
   "outputs": [
    {
     "data": {
      "text/plain": [
       "155.333"
      ]
     },
     "execution_count": 48,
     "metadata": {},
     "output_type": "execute_result"
    }
   ],
   "source": [
    "round(avg,3)"
   ]
  },
  {
   "cell_type": "markdown",
   "id": "a2c391a8-d354-44af-a705-bf5b2ba55500",
   "metadata": {},
   "source": [
    "# More short format method (f string method)"
   ]
  },
  {
   "cell_type": "code",
   "execution_count": 50,
   "id": "01c00d8f-d71b-49cf-99d2-0384bf14e6a4",
   "metadata": {},
   "outputs": [
    {
     "name": "stdout",
     "output_type": "stream",
     "text": [
      "The addition of 10 and 20 is = 30\n"
     ]
    }
   ],
   "source": [
    "num1=10\n",
    "num2=20\n",
    "add=num1+num2\n",
    "print(f'The addition of {num1} and {num2} is = {add}')"
   ]
  },
  {
   "cell_type": "code",
   "execution_count": 54,
   "id": "088fc982-30fc-4d2f-a77c-45af32dbec60",
   "metadata": {},
   "outputs": [
    {
     "name": "stdout",
     "output_type": "stream",
     "text": [
      "Hello my name is Anirudh, and i am 22 year old, from hyd.\n"
     ]
    }
   ],
   "source": [
    "name='Anirudh' \n",
    "age=22\n",
    "city='hyd'\n",
    "print(f'Hello my name is {name}, and i am {age} year old, from {city}.')"
   ]
  },
  {
   "cell_type": "code",
   "execution_count": 56,
   "id": "d702fb48-4c3a-4486-af64-1d3795564132",
   "metadata": {},
   "outputs": [
    {
     "name": "stdout",
     "output_type": "stream",
     "text": [
      "The avrage of 111, 22 and 333 is = 155.33\n"
     ]
    }
   ],
   "source": [
    "num1=111\n",
    "num2=22 \n",
    "num3=333\n",
    "avg=round((num1+num2+num3)/3,2) \n",
    "print(f'The avrage of {num1}, {num2} and {num3} is = {avg}')"
   ]
  },
  {
   "cell_type": "code",
   "execution_count": 58,
   "id": "da5ac400-31c9-4e36-9a63-c25647d08d59",
   "metadata": {},
   "outputs": [
    {
     "name": "stdout",
     "output_type": "stream",
     "text": [
      "The addition of 10 and 20 is= 30\n",
      "The addition of 10 and 20 is= 30\n",
      "The addition of 10 and 20 is= 30\n"
     ]
    }
   ],
   "source": [
    "num1=10 \n",
    "num2=20\n",
    "add = num1+ num2\n",
    "print('The addition of',num1,'and',num2,'is=',add)\n",
    "print('The addition of {} and {} is= {}'.format(num1,num2,add))\n",
    "print(f'The addition of {num1} and {num2} is= {add}')"
   ]
  },
  {
   "cell_type": "markdown",
   "id": "f5a6a185-5203-45ec-bdf6-8bd9b4250a88",
   "metadata": {},
   "source": [
    "# End statement"
   ]
  },
  {
   "cell_type": "code",
   "execution_count": 61,
   "id": "7d02dfc0-64e1-4af9-a771-27a939be01ca",
   "metadata": {},
   "outputs": [
    {
     "name": "stdout",
     "output_type": "stream",
     "text": [
      "hello\n",
      "good moorning\n"
     ]
    }
   ],
   "source": [
    "print('hello') \n",
    "print('good moorning')"
   ]
  },
  {
   "cell_type": "code",
   "execution_count": 67,
   "id": "a076e40a-c5d7-4f84-8f60-7c097beed2af",
   "metadata": {},
   "outputs": [
    {
     "name": "stdout",
     "output_type": "stream",
     "text": [
      "Hello Good morning\n"
     ]
    }
   ],
   "source": [
    "print('Hello', end=' ') \n",
    "print('Good morning')"
   ]
  },
  {
   "cell_type": "markdown",
   "id": "806a87fa-0a8b-416e-8f7f-ddcf21473289",
   "metadata": {},
   "source": [
    "# separator"
   ]
  },
  {
   "cell_type": "code",
   "execution_count": 70,
   "id": "bbe0898a-88b9-47cf-966e-78677a5fed71",
   "metadata": {},
   "outputs": [
    {
     "name": "stdout",
     "output_type": "stream",
     "text": [
      "hello--->hi--->how are you\n"
     ]
    }
   ],
   "source": [
    "print('hello','hi','how are you',sep='--->')"
   ]
  },
  {
   "cell_type": "code",
   "execution_count": 76,
   "id": "3fd0b823-e35f-441d-863a-7ce042c099dd",
   "metadata": {},
   "outputs": [
    {
     "name": "stdout",
     "output_type": "stream",
     "text": [
      "hello&hi&how are you\n"
     ]
    }
   ],
   "source": [
    "print('hello','hi','how are you',sep='&')"
   ]
  },
  {
   "cell_type": "code",
   "execution_count": 78,
   "id": "34e382c2-2a16-48af-9e5d-26b0bebe17af",
   "metadata": {},
   "outputs": [
    {
     "name": "stdout",
     "output_type": "stream",
     "text": [
      "hello@hi@how are you\n"
     ]
    }
   ],
   "source": [
    "print('hello','hi','how are you',sep='@')"
   ]
  },
  {
   "cell_type": "code",
   "execution_count": 80,
   "id": "e0259b48-f6ef-4656-9974-f09fa972008d",
   "metadata": {},
   "outputs": [
    {
     "name": "stdout",
     "output_type": "stream",
     "text": [
      "hello hi how are you\n"
     ]
    }
   ],
   "source": [
    "print('hello','hi','how are you',sep=' ')"
   ]
  },
  {
   "cell_type": "code",
   "execution_count": 82,
   "id": "230651be-aff0-4441-9e60-44913228cda3",
   "metadata": {},
   "outputs": [
    {
     "name": "stdout",
     "output_type": "stream",
     "text": [
      "3 .\n"
     ]
    }
   ],
   "source": [
    "print(3,'.')"
   ]
  },
  {
   "cell_type": "code",
   "execution_count": 84,
   "id": "f9cf21df-fd97-465e-ae32-634afec3cd2d",
   "metadata": {},
   "outputs": [
    {
     "name": "stdout",
     "output_type": "stream",
     "text": [
      "3.\n"
     ]
    }
   ],
   "source": [
    "print(3,'.',sep='')"
   ]
  },
  {
   "cell_type": "code",
   "execution_count": 88,
   "id": "429f9fb0-1d56-4c0c-b606-60b64fa32f40",
   "metadata": {},
   "outputs": [
    {
     "name": "stdout",
     "output_type": "stream",
     "text": [
      "1 2 3.\n"
     ]
    }
   ],
   "source": [
    "print(1,2,end=' ')\n",
    "print(3,'.',sep='')"
   ]
  }
 ],
 "metadata": {
  "kernelspec": {
   "display_name": "Python [conda env:base] *",
   "language": "python",
   "name": "conda-base-py"
  },
  "language_info": {
   "codemirror_mode": {
    "name": "ipython",
    "version": 3
   },
   "file_extension": ".py",
   "mimetype": "text/x-python",
   "name": "python",
   "nbconvert_exporter": "python",
   "pygments_lexer": "ipython3",
   "version": "3.11.7"
  }
 },
 "nbformat": 4,
 "nbformat_minor": 5
}
