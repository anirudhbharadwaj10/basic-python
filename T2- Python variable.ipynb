{
 "cells": [
  {
   "cell_type": "code",
   "execution_count": 3,
   "id": "171a1d32-1589-46a2-b379-89b04ad2d143",
   "metadata": {},
   "outputs": [],
   "source": [
    "#variable_name=value"
   ]
  },
  {
   "cell_type": "code",
   "execution_count": 5,
   "id": "ec2a8761-e573-4a2d-b300-d94f02a1a5d6",
   "metadata": {},
   "outputs": [
    {
     "name": "stdout",
     "output_type": "stream",
     "text": [
      "25\n"
     ]
    }
   ],
   "source": [
    "age=25\n",
    "print(age)"
   ]
  },
  {
   "cell_type": "code",
   "execution_count": 7,
   "id": "f247323c-d834-40c4-bb19-9c610dd96cd8",
   "metadata": {},
   "outputs": [
    {
     "name": "stdout",
     "output_type": "stream",
     "text": [
      "Anirudh\n"
     ]
    }
   ],
   "source": [
    "name='Anirudh'\n",
    "print(name)"
   ]
  },
  {
   "cell_type": "code",
   "execution_count": 9,
   "id": "05623ad5-ae3b-4a14-a838-73c6bad54792",
   "metadata": {},
   "outputs": [
    {
     "name": "stdout",
     "output_type": "stream",
     "text": [
      "22.22\n"
     ]
    }
   ],
   "source": [
    "price=22.22\n",
    "print(price)"
   ]
  },
  {
   "cell_type": "code",
   "execution_count": 11,
   "id": "1ef20c4e-4d86-4454-9c92-ca702b1de4a5",
   "metadata": {},
   "outputs": [
    {
     "name": "stdout",
     "output_type": "stream",
     "text": [
      "False\n"
     ]
    }
   ],
   "source": [
    "isnt_active=False\n",
    "print(isnt_active)"
   ]
  },
  {
   "cell_type": "code",
   "execution_count": 15,
   "id": "a1e785dd-e744-44fe-9706-7e1728370a9e",
   "metadata": {},
   "outputs": [
    {
     "name": "stdout",
     "output_type": "stream",
     "text": [
      "20\n"
     ]
    }
   ],
   "source": [
    "x=20\n",
    "print(x)"
   ]
  },
  {
   "cell_type": "code",
   "execution_count": 17,
   "id": "ebd46325-f492-483a-bea3-b94b82c19202",
   "metadata": {},
   "outputs": [
    {
     "name": "stdout",
     "output_type": "stream",
     "text": [
      "8\n"
     ]
    }
   ],
   "source": [
    "a=5\n",
    "b=3\n",
    "result=a+b\n",
    "print(result)"
   ]
  },
  {
   "cell_type": "code",
   "execution_count": 19,
   "id": "6a8cb307-0665-424c-b055-def9b1798dd3",
   "metadata": {},
   "outputs": [
    {
     "name": "stdout",
     "output_type": "stream",
     "text": [
      "60\n",
      "80\n"
     ]
    }
   ],
   "source": [
    "score=60\n",
    "print(score)\n",
    "\n",
    "score=80\n",
    "print(score)"
   ]
  },
  {
   "cell_type": "code",
   "execution_count": 25,
   "id": "51d1d136-87ed-4adf-a5be-d2a5229769a0",
   "metadata": {},
   "outputs": [
    {
     "name": "stdout",
     "output_type": "stream",
     "text": [
      "Anirudh Bharadwaj\n"
     ]
    }
   ],
   "source": [
    "first_name=\"Anirudh\"\n",
    "last_name=\"Bharadwaj\"\n",
    "full_name=first_name+' '+last_name\n",
    "print(full_name)"
   ]
  },
  {
   "cell_type": "code",
   "execution_count": 27,
   "id": "60924f9f-40c5-4efb-bf6e-0a5e48d435ab",
   "metadata": {},
   "outputs": [
    {
     "name": "stdout",
     "output_type": "stream",
     "text": [
      "50\n"
     ]
    }
   ],
   "source": [
    "length=10\n",
    "width=5\n",
    "\n",
    "area=length*width\n",
    "print(area)"
   ]
  }
 ],
 "metadata": {
  "kernelspec": {
   "display_name": "Python [conda env:base] *",
   "language": "python",
   "name": "conda-base-py"
  },
  "language_info": {
   "codemirror_mode": {
    "name": "ipython",
    "version": 3
   },
   "file_extension": ".py",
   "mimetype": "text/x-python",
   "name": "python",
   "nbconvert_exporter": "python",
   "pygments_lexer": "ipython3",
   "version": "3.11.7"
  }
 },
 "nbformat": 4,
 "nbformat_minor": 5
}
